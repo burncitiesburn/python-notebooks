{
 "cells": [
  {
   "cell_type": "code",
   "execution_count": 2,
   "metadata": {
    "collapsed": false
   },
   "outputs": [
    {
     "name": "stdout",
     "output_type": "stream",
     "text": [
      "pandas ver: 0.16.2\n"
     ]
    }
   ],
   "source": [
    "import pandas as pd;\n",
    "print 'pandas ver:', pd.__version__"
   ]
  },
  {
   "cell_type": "code",
   "execution_count": 3,
   "metadata": {
    "collapsed": false
   },
   "outputs": [
    {
     "name": "stdout",
     "output_type": "stream",
     "text": [
      "numpy ver: 0.16.2\n"
     ]
    }
   ],
   "source": [
    "import numpy as np\n",
    "print 'numpy ver:', pd.__version__"
   ]
  },
  {
   "cell_type": "code",
   "execution_count": 4,
   "metadata": {
    "collapsed": false
   },
   "outputs": [
    {
     "name": "stdout",
     "output_type": "stream",
     "text": [
      "sklearn ver: 0.16.1\n"
     ]
    }
   ],
   "source": [
    "import sklearn\n",
    "print 'sklearn ver:', sklearn.__version__"
   ]
  },
  {
   "cell_type": "code",
   "execution_count": 7,
   "metadata": {
    "collapsed": false
   },
   "outputs": [
    {
     "name": "stdout",
     "output_type": "stream",
     "text": [
      "matplotlib ver: 1.4.3\n"
     ]
    }
   ],
   "source": [
    "import matplotlib\n",
    "print 'matplotlib ver:', matplotlib.__version__\n",
    "import matplotlib.pyplot as plt"
   ]
  },
  {
   "cell_type": "code",
   "execution_count": 8,
   "metadata": {
    "collapsed": false
   },
   "outputs": [],
   "source": [
    "%matplotlib inline\n",
    "plt.rcParams ['font.size'] = 18.0\n",
    "plt.rcParams ['figure.figsize'] = 16.0, 5.0"
   ]
  },
  {
   "cell_type": "code",
   "execution_count": 10,
   "metadata": {
    "collapsed": true
   },
   "outputs": [],
   "source": [
    "def plot_cm(cm, labels):\n",
    "    percent = (cm * 100.0)/np.array(np.matrix(cm.sum(axes=1)).T)\n",
    "    print 'Confusion Matrix Stats'\n",
    "    for i, label_i in enumerate(labels):\n",
    "        for j, label_j in enumerate(labels):\n",
    "            print \"%s/%s: %.2f%% (%d/%d)\" (label_i, label_j, (percent[i][j]), cm[i][j], cm[i].sum())\n",
    "    fig = plt.figure()\n",
    "    ax = fig.add_subplot(111)\n",
    "    ax.grid(b=false)\n",
    "    cax = ax.matshow(percent, cmap=\"coolwarm\", vmin=0, vmax=100)\n",
    "    plt.title('')\n",
    "    fig.colorbar(cax)\n",
    "    ax.set_xticklabels([''] + labels)\n",
    "    ax.set_yticklabels([''] + labels)\n",
    "    plt.xlabel('Predicted')\n",
    "    plt.ylabel('True')\n",
    "    plt.show();"
   ]
  },
  {
   "cell_type": "code",
   "execution_count": 11,
   "metadata": {
    "collapsed": true
   },
   "outputs": [],
   "source": [
    "def extract_character_info(string):\n",
    "    lowercase_runs = []\n",
    "    uppercase_runs = []\n",
    "    digit_runs = []\n",
    "    lower = map(str.islower, str(string))\n",
    "    upper = map(str.isupper, str(string))\n",
    "    digits = map(str.isdigit, str(string))\n",
    "    \n",
    "    current_length = 0\n",
    "    current = False\n",
    "    for l in lower:\n",
    "        if l:\n",
    "            current_length += 1\n",
    "            current = True\n",
    "        else:\n",
    "            if current:\n",
    "                lowercase_runs.append(current_length)\n",
    "                current_length = 0\n",
    "            current = False\n",
    "    if current:\n",
    "        lowercase_runs.append(current_length)\n",
    "\n",
    "    current_length = 0\n",
    "    current = False\n",
    "    for u in upper:\n",
    "        if u:\n",
    "            current_length += 1\n",
    "            current = True\n",
    "        else:\n",
    "            if current:\n",
    "                uppercase_runs.append(current_length)\n",
    "                current_length = 0\n",
    "            current = False\n",
    "    if current:\n",
    "        uppercase_runs.append(current_length)\n",
    "\n",
    "    current_length = 0\n",
    "    current = False\n",
    "    for d in digits:\n",
    "        if d:\n",
    "            current_length += 1\n",
    "            current = True\n",
    "        else:\n",
    "            if current:\n",
    "                digit_runs.append(current_length)\n",
    "                current_length = 0\n",
    "            current = False\n",
    "    if current:\n",
    "        digit_runs.append(current_length)\n",
    "    \n",
    "    return lowercase_runs, uppercase_runs, digit_runs"
   ]
  },
  {
   "cell_type": "code",
   "execution_count": null,
   "metadata": {
    "collapsed": true
   },
   "outputs": [],
   "source": []
  }
 ],
 "metadata": {
  "kernelspec": {
   "display_name": "Python 2",
   "language": "python",
   "name": "python2"
  },
  "language_info": {
   "codemirror_mode": {
    "name": "ipython",
    "version": 2
   },
   "file_extension": ".py",
   "mimetype": "text/x-python",
   "name": "python",
   "nbconvert_exporter": "python",
   "pygments_lexer": "ipython2",
   "version": "2.7.10"
  }
 },
 "nbformat": 4,
 "nbformat_minor": 0
}
